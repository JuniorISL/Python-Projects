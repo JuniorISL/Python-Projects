{
 "cells": [
  {
   "cell_type": "markdown",
   "metadata": {},
   "source": [
    "# U.S. Medical Insurance Costs\n",
    "\n",
    "In this independent portfolio project, we aim to explore a dataset containing US Medical Insurance Costs (<b>insurance.csv</b>) using Python fundamentals.\n",
    "We will start by taking a profile of the demographic characteristics within the dataset (i.e. average age, proportion of BMI categories, percentage male vs. female, profile of those with children, geographical region of the residence, smoker vs. non-smoker, etc.).\n",
    "We will then explore how these demographic factors potentially impact the individual's medical insurance costs and whether there are differences based on key status like gender, smoking, area of residence, children, age, and BMI.\n",
    "The goal of the project is come up with a comprehensive overview of the demographics within the dataset and how different factors potentially impact their medical insurance costs."
   ]
  },
  {
   "cell_type": "markdown",
   "metadata": {},
   "source": [
    "The first step would be to use the CSV library to load the csv data into Python as a dictionary object so that each row of the csv is a dictionary object with the keys taken from the header of the CSV file."
   ]
  },
  {
   "cell_type": "code",
   "execution_count": 81,
   "metadata": {},
   "outputs": [],
   "source": [
    "import csv\n",
    "\n",
    "with open(\"insurance.csv\", newline = \"\") as csvfile:\n",
    "    insurance_dict = csv.DictReader(csvfile)\n",
    "    insurance_data = [row for row in insurance_dict]\n",
    "\n",
    "#print(insurance_data)"
   ]
  },
  {
   "cell_type": "markdown",
   "metadata": {},
   "source": [
    "The <b>insurance.csv</b> contains 7 columns:\n",
    "- Patient Age\n",
    "- Patient Sex\n",
    "- Patient's BMI values\n",
    "- The number of children the patient has\n",
    "- Patient's smoking status\n",
    "- The region that the patient resides in\n",
    "- The medical insurance cost of the patient.\n",
    "\n",
    "Note that there are no missing data.\n",
    "\n",
    "Now that the data is loaded into Python, we can save the variables we want to analyze later. This will be in the form of lists to enable quick dissemination of the desired variable/feature."
   ]
  },
  {
   "cell_type": "code",
   "execution_count": 90,
   "metadata": {},
   "outputs": [],
   "source": [
    "ages = [int(row[\"age\"]) for row in insurance_data]\n",
    "sexes = [row[\"sex\"] for row in insurance_data]\n",
    "bmis = [float(row[\"bmi\"]) for row in insurance_data]\n",
    "children = [int(row[\"children\"]) for row in insurance_data]\n",
    "smoking_status = [row[\"smoker\"] for row in insurance_data]\n",
    "regions = [row[\"region\"] for row in insurance_data]\n",
    "costs = [float(row[\"charges\"]) for row in insurance_data]\n",
    "\n",
    "#Smoking status data are non-descript by itself, so modifying\n",
    "smoking_status = [x.replace(\"yes\", \"smoker\") for x in smoking_status]\n",
    "smoking_status = [x.replace(\"no\", \"non-smoker\") for x in smoking_status]"
   ]
  },
  {
   "cell_type": "markdown",
   "metadata": {},
   "source": [
    "Now that the variables are created as individual lists. We can start analyzing the data.\n",
    "First off, we want to build some functions that can help us speed up the analyses. \n",
    "The functions that we make will:\n",
    "- Calculate the mean of the values in the list\n",
    "- Count the number of values for a variable in a given list.\n",
    "- Provide a summary of the proportion of each category in the list as percentages. The summary is returned as a dictionary with each category as a key.\n",
    "- Provide a total of each category in the list. The total is returned as a dictionary with each category as a key.\n",
    "- Calculate the mean, based on given stratifier. The mean is returned as a dictionary with each category as a key.\n",
    "- Compare the mean of two classes based on the stratifier and return a summary as a string.\n",
    "\n",
    "These functions will help us build a summary of the data we have on hand."
   ]
  },
  {
   "cell_type": "code",
   "execution_count": 97,
   "metadata": {},
   "outputs": [
    {
     "name": "stdout",
     "output_type": "stream",
     "text": [
      "The average age of the population in the dataset is 39.21.\n",
      "The average bmi of the population in the dataset is 30.66.\n",
      "The average number of children of the population in the dataset is 1.09.\n",
      "The average annual cost of medical insurance of the population in the dataset is 13270.42.\n",
      "\n",
      "{'female': 662, 'male': 676}\n",
      "{0: 574, 1: 324, 2: 240, 3: 157, 4: 25, 5: 18}\n",
      "{'non-smoker': 1064, 'smoker': 274}\n",
      "{'northeast': 324, 'northwest': 325, 'southeast': 364, 'southwest': 325}\n",
      "{'female': 49.5, 'male': 50.5}\n",
      "{0: 42.9, 1: 24.2, 2: 17.9, 3: 11.7, 4: 1.9, 5: 1.3}\n",
      "{'non-smoker': 79.5, 'smoker': 20.5}\n",
      "{'northeast': 24.2, 'northwest': 24.3, 'southeast': 27.2, 'southwest': 24.3}\n",
      "{'female': 12569.58, 'male': 13956.75}\n",
      "{0: 12365.98, 1: 12731.17, 2: 15073.56, 3: 15355.32, 4: 13850.66, 5: 8786.04}\n",
      "{'non-smoker': 8434.27, 'smoker': 32050.23}\n",
      "{'northeast': 13406.38, 'northwest': 12417.58, 'southeast': 14735.41, 'southwest': 12346.94}\n",
      "{'female': 30.38, 'male': 30.94}\n",
      "{0: 30.55, 1: 30.62, 2: 30.98, 3: 30.68, 4: 31.39, 5: 29.61}\n",
      "{'non-smoker': 30.65, 'smoker': 30.71}\n",
      "{'northeast': 29.17, 'northwest': 29.2, 'southeast': 33.36, 'southwest': 30.6}\n",
      "{'female': 39.5, 'male': 38.92}\n",
      "{0: 38.44, 1: 39.45, 2: 39.45, 3: 41.57, 4: 39.0, 5: 35.61}\n",
      "{'non-smoker': 39.39, 'smoker': 38.51}\n",
      "{'northeast': 39.27, 'northwest': 39.2, 'southeast': 38.94, 'southwest': 39.46}\n",
      "\n",
      "The difference in mean cost of medical insurance between northeast and southwest is 1059.44.\n",
      "The difference in mean BMI value between smoker and non-smoker is 0.06.\n",
      "The difference in mean cost of medical insurance between smoker and non-smoker is 23615.96.\n",
      "The difference in mean cost of medical insurance between 3 and 1 is 2624.15.\n"
     ]
    }
   ],
   "source": [
    "def list_mean(var_list):\n",
    "    return round(sum(var_list)/len(var_list), 2)\n",
    "\n",
    "def count(var, list):\n",
    "    count = 0\n",
    "    for item in list:\n",
    "        if item == var:\n",
    "            count += 1\n",
    "    return count\n",
    "\n",
    "def list_summary(var_list):\n",
    "    summary_dict = {}\n",
    "    for x in var_list:\n",
    "        if summary_dict.get(x, 0) == 0:\n",
    "            summary_dict[x] = round(count(x, var_list) / len(var_list) * 100, 1)\n",
    "    return dict(sorted(summary_dict.items()))\n",
    "\n",
    "def count_summary(var_list):\n",
    "    count_dict = {}\n",
    "    for x in var_list:\n",
    "        if count_dict.get(x, 0) == 0:\n",
    "            count_dict[x] = count(x, var_list)\n",
    "    return dict(sorted(count_dict.items()))\n",
    "\n",
    "def average_by(var, stratifier):\n",
    "    data = list(zip(var, stratifier))\n",
    "    average_summary = {}\n",
    "    for x in stratifier:\n",
    "        if average_summary.get(x, 0) == 0:\n",
    "            stratifier_list = [var[0] for var in data if var[1] == x]\n",
    "            average_summary[x] = list_mean(stratifier_list)\n",
    "    return dict(sorted(average_summary.items()))\n",
    "\n",
    "def compare_classes(var,stratifier, class1, class2, var_label):\n",
    "    mean_list = average_by(var, stratifier)\n",
    "    difference = round(mean_list[class1] - mean_list[class2], 2)\n",
    "    return \"The difference in mean {} between {} and {} is {}.\".format(var_label, class1, class2, difference)\n",
    "\n",
    "#Print out some summary of the important means from the data\n",
    "print(\"The average age of the population in the dataset is {}.\".format(list_mean(ages)))\n",
    "print(\"The average bmi of the population in the dataset is {}.\".format(list_mean(bmis)))\n",
    "print(\"The average number of children of the population in the dataset is {}.\".format(list_mean(children)))\n",
    "print(\"The average annual cost of medical insurance of the population in the dataset is {}.\".format(list_mean(costs)))\n",
    "print()\n",
    "\n",
    "print(count_summary(sexes)) \n",
    "print(count_summary(children))\n",
    "print(count_summary(smoking_status))\n",
    "print(count_summary(regions))\n",
    "\n",
    "print(list_summary(sexes)) \n",
    "print(list_summary(children))\n",
    "print(list_summary(smoking_status))\n",
    "print(list_summary(regions))\n",
    "\n",
    "print(average_by(costs, sexes))\n",
    "print(average_by(costs, children)) \n",
    "print(average_by(costs, smoking_status)) \n",
    "print(average_by(costs, regions)) \n",
    "\n",
    "print(average_by(bmis, sexes))\n",
    "print(average_by(bmis, children)) \n",
    "print(average_by(bmis, smoking_status)) \n",
    "print(average_by(bmis, regions))\n",
    "\n",
    "print(average_by(ages, sexes))\n",
    "print(average_by(ages, children)) \n",
    "print(average_by(ages, smoking_status)) \n",
    "print(average_by(ages, regions))\n",
    "print()\n",
    "\n",
    "print(compare_classes(costs, regions, \"northeast\", \"southwest\", \"cost of medical insurance\"))\n",
    "print(compare_classes(bmis, smoking_status, \"smoker\", \"non-smoker\", \"BMI value\"))\n",
    "print(compare_classes(costs, smoking_status, \"smoker\", \"non-smoker\", \"cost of medical insurance\"))\n",
    "print(compare_classes(costs, children, 3, 1, \"cost of medical insurance\"))"
   ]
  },
  {
   "cell_type": "markdown",
   "metadata": {},
   "source": [
    "These functions help us build out a summary that we can further use in later analyses. At this stage, we can make descriptive statistics, but without extensive coding we are not providing significance testing yet - which will come when we incorporate numpy and pandas into our working libraries."
   ]
  },
  {
   "cell_type": "code",
   "execution_count": null,
   "metadata": {},
   "outputs": [],
   "source": []
  }
 ],
 "metadata": {
  "kernelspec": {
   "display_name": "Python 3 (ipykernel)",
   "language": "python",
   "name": "python3"
  },
  "language_info": {
   "codemirror_mode": {
    "name": "ipython",
    "version": 3
   },
   "file_extension": ".py",
   "mimetype": "text/x-python",
   "name": "python",
   "nbconvert_exporter": "python",
   "pygments_lexer": "ipython3",
   "version": "3.11.5"
  }
 },
 "nbformat": 4,
 "nbformat_minor": 4
}
